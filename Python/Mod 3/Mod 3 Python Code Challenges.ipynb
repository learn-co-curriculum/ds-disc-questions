{
 "cells": [
  {
   "cell_type": "markdown",
   "metadata": {},
   "source": [
    "#### #1"
   ]
  },
  {
   "cell_type": "code",
   "execution_count": 52,
   "metadata": {},
   "outputs": [
    {
     "data": {
      "text/plain": [
       "\"ex: 'ababab' returns True, 'aaaaaa' = True, 'abcdfabcdf' = True, 'ababcd' returns False\""
      ]
     },
     "execution_count": 52,
     "metadata": {},
     "output_type": "execute_result"
    }
   ],
   "source": [
    "'''Write a function that checks if a string can be entirely reconstructed by taking a \n",
    "substring pattern from the main string and repeating it multiple times.'''\n",
    "\n",
    "'''ex: 'ababab' returns True, 'aaaaaa' = True, 'abcdfabcdf' = True, 'ababcd' returns False'''"
   ]
  },
  {
   "cell_type": "code",
   "execution_count": 18,
   "metadata": {},
   "outputs": [],
   "source": [
    "def repeatable(string):\n",
    "    \n",
    "    for i in range(int(len(string)/2),-1,-1):\n",
    "        if string[:i]*(len(string)//i)==string:\n",
    "            return True\n",
    "        elif i==1:\n",
    "            return False"
   ]
  },
  {
   "cell_type": "code",
   "execution_count": 50,
   "metadata": {},
   "outputs": [],
   "source": [
    "def stringcheck(string):\n",
    "    length = len(string)\n",
    "    for i in range(1,length):\n",
    "        x= string[0:i]\n",
    "        if x*int((len(string)/len(x)))==string:\n",
    "            return True\n",
    "        else:\n",
    "            pass\n",
    "    return False"
   ]
  },
  {
   "cell_type": "code",
   "execution_count": 12,
   "metadata": {},
   "outputs": [],
   "source": [
    "def repeats(stng):\n",
    "    tot_len = len(stng)//2\n",
    "    for ind in range(1, tot_len+1):\n",
    "        tester = (stng[0:ind] * int(len(stng)/ind))\n",
    "        if tester == stng:\n",
    "            return True  \n",
    "    return False"
   ]
  },
  {
   "cell_type": "code",
   "execution_count": 34,
   "metadata": {},
   "outputs": [],
   "source": [
    "def thing(test):\n",
    "    i = 0\n",
    "    pattern = test[0]\n",
    "    while i < (len(test)/2 +1): \n",
    "        pattern_re = re.compile(pattern) \n",
    "        matches = re.findall(pattern_re, test)\n",
    "        if ''.join(matches) == test:\n",
    "            return True\n",
    "        else:\n",
    "            if i > 0:\n",
    "                pattern += test[i] \n",
    "            i += 1\n",
    "    return False"
   ]
  },
  {
   "cell_type": "code",
   "execution_count": null,
   "metadata": {},
   "outputs": [],
   "source": []
  },
  {
   "cell_type": "code",
   "execution_count": null,
   "metadata": {},
   "outputs": [],
   "source": []
  }
 ],
 "metadata": {
  "kernelspec": {
   "display_name": "Python 3",
   "language": "python",
   "name": "python3"
  },
  "language_info": {
   "codemirror_mode": {
    "name": "ipython",
    "version": 3
   },
   "file_extension": ".py",
   "mimetype": "text/x-python",
   "name": "python",
   "nbconvert_exporter": "python",
   "pygments_lexer": "ipython3",
   "version": "3.7.1"
  }
 },
 "nbformat": 4,
 "nbformat_minor": 2
}
