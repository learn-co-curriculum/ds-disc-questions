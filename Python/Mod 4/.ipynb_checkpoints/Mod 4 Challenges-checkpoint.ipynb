{
 "cells": [
  {
   "cell_type": "markdown",
   "metadata": {},
   "source": [
    "Create a function that takes in two sorted lists and returns a single joined and sorted list. "
   ]
  },
  {
   "cell_type": "markdown",
   "metadata": {},
   "source": [
    "sort_list([1,4,6,10], [2,9,11,12,13]) returns [1,2,4,6,9,10,12,13]"
   ]
  },
  {
   "cell_type": "code",
   "execution_count": 28,
   "metadata": {},
   "outputs": [],
   "source": [
    "import time"
   ]
  },
  {
   "cell_type": "code",
   "execution_count": 38,
   "metadata": {},
   "outputs": [],
   "source": [
    "arr1 = [1,4,6,10]\n",
    "arr2 = [2,9,11,12,13]"
   ]
  },
  {
   "cell_type": "code",
   "execution_count": 39,
   "metadata": {},
   "outputs": [],
   "source": [
    "def sort_list(arr1, arr2):\n",
    "    arr3 = []\n",
    "    a = 0\n",
    "    b = 0\n",
    "    c = 0\n",
    "    while a < len(arr1) and b < len(arr2):\n",
    "        if arr1[a] < arr2[b]:\n",
    "            arr3.append(arr1[a])\n",
    "            a += 1 \n",
    "            c += 1\n",
    "        else: \n",
    "            arr3.append(arr2[b])\n",
    "            b += 1 \n",
    "            c += 1\n",
    "    return arr3 + arr1[a:] + arr2[b:]\n",
    "            "
   ]
  },
  {
   "cell_type": "code",
   "execution_count": 40,
   "metadata": {},
   "outputs": [
    {
     "name": "stdout",
     "output_type": "stream",
     "text": [
      "5.1975250244140625e-05\n"
     ]
    }
   ],
   "source": [
    "start = time.time()\n",
    "sort_list(arr1, arr2)\n",
    "end = time.time()\n",
    "print(end-start)\n"
   ]
  },
  {
   "cell_type": "code",
   "execution_count": 41,
   "metadata": {},
   "outputs": [],
   "source": [
    "def merge_lst(lst1, lst2):\n",
    "    merged = []\n",
    "    while len(lst1) > 0 and len(lst2) > 0:\n",
    "        if lst1[0] <= lst2[0]:\n",
    "            merged.append(lst1[0])\n",
    "            lst1 = lst1[1:]\n",
    "        else:\n",
    "            merged.append(lst2[0])\n",
    "            lst2 = lst2[1:]\n",
    "    return merged + lst1 + lst2"
   ]
  },
  {
   "cell_type": "code",
   "execution_count": 42,
   "metadata": {},
   "outputs": [
    {
     "name": "stdout",
     "output_type": "stream",
     "text": [
      "5.0067901611328125e-05\n"
     ]
    }
   ],
   "source": [
    "start = time.time()\n",
    "merge_lst(arr1,arr2)\n",
    "end = time.time()\n",
    "print(end-start)\n"
   ]
  },
  {
   "cell_type": "code",
   "execution_count": 43,
   "metadata": {},
   "outputs": [],
   "source": [
    "def rec_lst(lst1,lst2):\n",
    "    if len(lst1) == 0 or len(lst2) == 0:\n",
    "        return lst1 + lst2\n",
    "    else:\n",
    "        if lst1[0] <= lst2[0]:\n",
    "            return [lst1[0]] + rec_lst(lst1[1:],lst2)\n",
    "        else:\n",
    "            return [lst2[0]] + rec_lst(lst1,lst2[1:])"
   ]
  },
  {
   "cell_type": "code",
   "execution_count": 44,
   "metadata": {},
   "outputs": [
    {
     "name": "stdout",
     "output_type": "stream",
     "text": [
      "8.916854858398438e-05\n"
     ]
    }
   ],
   "source": [
    "\n",
    "start = time.time()\n",
    "rec_lst(arr1, arr2)\n",
    "end = time.time()\n",
    "print(end-start)\n"
   ]
  },
  {
   "cell_type": "code",
   "execution_count": null,
   "metadata": {},
   "outputs": [],
   "source": []
  }
 ],
 "metadata": {
  "kernelspec": {
   "display_name": "Python 3",
   "language": "python",
   "name": "python3"
  },
  "language_info": {
   "codemirror_mode": {
    "name": "ipython",
    "version": 3
   },
   "file_extension": ".py",
   "mimetype": "text/x-python",
   "name": "python",
   "nbconvert_exporter": "python",
   "pygments_lexer": "ipython3",
   "version": "3.7.1"
  }
 },
 "nbformat": 4,
 "nbformat_minor": 2
}
